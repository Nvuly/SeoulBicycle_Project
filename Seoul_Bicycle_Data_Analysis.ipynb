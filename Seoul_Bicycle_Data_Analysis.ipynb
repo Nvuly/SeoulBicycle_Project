{
 "cells": [
  {
   "cell_type": "code",
   "execution_count": 28,
   "metadata": {},
   "outputs": [],
   "source": [
    "import pandas as pd\n",
    "import numpy as np\n",
    "import matplotlib.pyplot as plt\n",
    "import seaborn as sns\n",
    "import os\n",
    "import random\n",
    "#-----한글깨짐방지 코드라인-----\n",
    "from matplotlib import font_manager, rc\n",
    "\n",
    "font_name = font_manager.FontProperties(fname=\"c:/Windows/Fonts/malgun.ttf\").get_name()\n",
    "rc('font', family=font_name)\n"
   ]
  },
  {
   "cell_type": "markdown",
   "metadata": {},
   "source": [
    "## Load Data"
   ]
  },
  {
   "cell_type": "code",
   "execution_count": 38,
   "metadata": {},
   "outputs": [
    {
     "data": {
      "text/html": [
       "<div>\n",
       "<style scoped>\n",
       "    .dataframe tbody tr th:only-of-type {\n",
       "        vertical-align: middle;\n",
       "    }\n",
       "\n",
       "    .dataframe tbody tr th {\n",
       "        vertical-align: top;\n",
       "    }\n",
       "\n",
       "    .dataframe thead th {\n",
       "        text-align: right;\n",
       "    }\n",
       "</style>\n",
       "<table border=\"1\" class=\"dataframe\">\n",
       "  <thead>\n",
       "    <tr style=\"text-align: right;\">\n",
       "      <th></th>\n",
       "      <th>대여소_ID</th>\n",
       "      <th>주소1</th>\n",
       "      <th>주소2</th>\n",
       "      <th>위도</th>\n",
       "      <th>경도</th>\n",
       "    </tr>\n",
       "  </thead>\n",
       "  <tbody>\n",
       "    <tr>\n",
       "      <th>0</th>\n",
       "      <td>ST-999</td>\n",
       "      <td>서울특별시 양천구 목동서로 280</td>\n",
       "      <td>목동아파트 8단지 상가동</td>\n",
       "      <td>0.000000</td>\n",
       "      <td>0.000000</td>\n",
       "    </tr>\n",
       "    <tr>\n",
       "      <th>1</th>\n",
       "      <td>ST-998</td>\n",
       "      <td>서울특별시 양천구 목동서로 130</td>\n",
       "      <td>목동아파트 4단지 상가동</td>\n",
       "      <td>0.000000</td>\n",
       "      <td>0.000000</td>\n",
       "    </tr>\n",
       "    <tr>\n",
       "      <th>2</th>\n",
       "      <td>ST-997</td>\n",
       "      <td>서울특별시 양천구 목동중앙로 49</td>\n",
       "      <td>목동3단지 시내버스정류장</td>\n",
       "      <td>37.534390</td>\n",
       "      <td>126.869598</td>\n",
       "    </tr>\n",
       "    <tr>\n",
       "      <th>3</th>\n",
       "      <td>ST-996</td>\n",
       "      <td>서울특별시 양천구 남부순환로88길5-16</td>\n",
       "      <td>양강중학교앞 교차로</td>\n",
       "      <td>37.524334</td>\n",
       "      <td>126.850548</td>\n",
       "    </tr>\n",
       "    <tr>\n",
       "      <th>4</th>\n",
       "      <td>ST-995</td>\n",
       "      <td>서울특별시 양천구 중앙로 153 공중화장실</td>\n",
       "      <td>NaN</td>\n",
       "      <td>37.510597</td>\n",
       "      <td>126.857323</td>\n",
       "    </tr>\n",
       "    <tr>\n",
       "      <th>...</th>\n",
       "      <td>...</td>\n",
       "      <td>...</td>\n",
       "      <td>...</td>\n",
       "      <td>...</td>\n",
       "      <td>...</td>\n",
       "    </tr>\n",
       "    <tr>\n",
       "      <th>3265</th>\n",
       "      <td>ST-1002</td>\n",
       "      <td>서울특별시 양천구 목동동로 316-6</td>\n",
       "      <td>서울시 도로환경관리센터</td>\n",
       "      <td>37.529900</td>\n",
       "      <td>126.876541</td>\n",
       "    </tr>\n",
       "    <tr>\n",
       "      <th>3266</th>\n",
       "      <td>ST-1001</td>\n",
       "      <td>서울특별시 양천구 남부순환로4길20</td>\n",
       "      <td>서서울호수공원</td>\n",
       "      <td>0.000000</td>\n",
       "      <td>0.000000</td>\n",
       "    </tr>\n",
       "    <tr>\n",
       "      <th>3267</th>\n",
       "      <td>ST-1000</td>\n",
       "      <td>서울특별시 양천구 신정동 236</td>\n",
       "      <td>서부식자재마트 건너편</td>\n",
       "      <td>37.510380</td>\n",
       "      <td>126.866798</td>\n",
       "    </tr>\n",
       "    <tr>\n",
       "      <th>3268</th>\n",
       "      <td>ST-100</td>\n",
       "      <td>서울특별시 광진구 아차산로 262</td>\n",
       "      <td>더샵스타시티 C동 앞</td>\n",
       "      <td>37.536667</td>\n",
       "      <td>127.073593</td>\n",
       "    </tr>\n",
       "    <tr>\n",
       "      <th>3269</th>\n",
       "      <td>ST-10</td>\n",
       "      <td>서울특별시 마포구 양화로 93</td>\n",
       "      <td>427</td>\n",
       "      <td>37.552746</td>\n",
       "      <td>126.918617</td>\n",
       "    </tr>\n",
       "  </tbody>\n",
       "</table>\n",
       "<p>3270 rows × 5 columns</p>\n",
       "</div>"
      ],
      "text/plain": [
       "       대여소_ID                      주소1            주소2         위도          경도\n",
       "0      ST-999       서울특별시 양천구 목동서로 280  목동아파트 8단지 상가동   0.000000    0.000000\n",
       "1      ST-998       서울특별시 양천구 목동서로 130  목동아파트 4단지 상가동   0.000000    0.000000\n",
       "2      ST-997       서울특별시 양천구 목동중앙로 49  목동3단지 시내버스정류장  37.534390  126.869598\n",
       "3      ST-996   서울특별시 양천구 남부순환로88길5-16     양강중학교앞 교차로  37.524334  126.850548\n",
       "4      ST-995  서울특별시 양천구 중앙로 153 공중화장실            NaN  37.510597  126.857323\n",
       "...       ...                      ...            ...        ...         ...\n",
       "3265  ST-1002     서울특별시 양천구 목동동로 316-6   서울시 도로환경관리센터  37.529900  126.876541\n",
       "3266  ST-1001      서울특별시 양천구 남부순환로4길20        서서울호수공원   0.000000    0.000000\n",
       "3267  ST-1000        서울특별시 양천구 신정동 236    서부식자재마트 건너편  37.510380  126.866798\n",
       "3268   ST-100       서울특별시 광진구 아차산로 262    더샵스타시티 C동 앞  37.536667  127.073593\n",
       "3269    ST-10         서울특별시 마포구 양화로 93            427  37.552746  126.918617\n",
       "\n",
       "[3270 rows x 5 columns]"
      ]
     },
     "execution_count": 38,
     "metadata": {},
     "output_type": "execute_result"
    }
   ],
   "source": [
    "master_path = 'D:\\Code\\(최종)따릉이/서울시 따릉이대여소 마스터 정보.csv'\n",
    "\n",
    "df_master = pd.read_csv(master_path,encoding='cp949')\n",
    "\n",
    "df_master"
   ]
  },
  {
   "cell_type": "markdown",
   "metadata": {},
   "source": [
    "## 서울시 따릉이 일별 이용 현황(20240104)"
   ]
  },
  {
   "cell_type": "code",
   "execution_count": 57,
   "metadata": {},
   "outputs": [
    {
     "data": {
      "text/html": [
       "<div>\n",
       "<style scoped>\n",
       "    .dataframe tbody tr th:only-of-type {\n",
       "        vertical-align: middle;\n",
       "    }\n",
       "\n",
       "    .dataframe tbody tr th {\n",
       "        vertical-align: top;\n",
       "    }\n",
       "\n",
       "    .dataframe thead th {\n",
       "        text-align: right;\n",
       "    }\n",
       "</style>\n",
       "<table border=\"1\" class=\"dataframe\">\n",
       "  <thead>\n",
       "    <tr style=\"text-align: right;\">\n",
       "      <th></th>\n",
       "      <th>기준_날짜</th>\n",
       "      <th>집계_기준</th>\n",
       "      <th>기준_시간대</th>\n",
       "      <th>시작_대여소_ID</th>\n",
       "      <th>시작_대여소명</th>\n",
       "      <th>종료_대여소_ID</th>\n",
       "      <th>종료_대여소명</th>\n",
       "      <th>전체_건수</th>\n",
       "      <th>전체_이용_분</th>\n",
       "      <th>전체_이용_거리</th>\n",
       "    </tr>\n",
       "  </thead>\n",
       "  <tbody>\n",
       "    <tr>\n",
       "      <th>0</th>\n",
       "      <td>20240104</td>\n",
       "      <td>출발시간</td>\n",
       "      <td>0</td>\n",
       "      <td>ST-1014</td>\n",
       "      <td>신정3동_101_1</td>\n",
       "      <td>ST-676</td>\n",
       "      <td>고척2동_035_1</td>\n",
       "      <td>1</td>\n",
       "      <td>6</td>\n",
       "      <td>2320</td>\n",
       "    </tr>\n",
       "    <tr>\n",
       "      <th>1</th>\n",
       "      <td>20240104</td>\n",
       "      <td>출발시간</td>\n",
       "      <td>0</td>\n",
       "      <td>ST-1017</td>\n",
       "      <td>목5동_059_1</td>\n",
       "      <td>ST-310</td>\n",
       "      <td>목4동_047_1</td>\n",
       "      <td>1</td>\n",
       "      <td>6</td>\n",
       "      <td>909</td>\n",
       "    </tr>\n",
       "    <tr>\n",
       "      <th>2</th>\n",
       "      <td>20240104</td>\n",
       "      <td>출발시간</td>\n",
       "      <td>0</td>\n",
       "      <td>ST-1055</td>\n",
       "      <td>강일동_001_1</td>\n",
       "      <td>ST-2744</td>\n",
       "      <td>강일동_001_5</td>\n",
       "      <td>1</td>\n",
       "      <td>93</td>\n",
       "      <td>12860</td>\n",
       "    </tr>\n",
       "    <tr>\n",
       "      <th>3</th>\n",
       "      <td>20240104</td>\n",
       "      <td>출발시간</td>\n",
       "      <td>0</td>\n",
       "      <td>ST-1082</td>\n",
       "      <td>장지동_019_1</td>\n",
       "      <td>ST-2599</td>\n",
       "      <td>장지동_012_3</td>\n",
       "      <td>1</td>\n",
       "      <td>5</td>\n",
       "      <td>910</td>\n",
       "    </tr>\n",
       "    <tr>\n",
       "      <th>4</th>\n",
       "      <td>20240104</td>\n",
       "      <td>출발시간</td>\n",
       "      <td>0</td>\n",
       "      <td>ST-1092</td>\n",
       "      <td>풍납2동_026_1</td>\n",
       "      <td>ST-502</td>\n",
       "      <td>성내1동_007_1</td>\n",
       "      <td>1</td>\n",
       "      <td>5</td>\n",
       "      <td>1063</td>\n",
       "    </tr>\n",
       "    <tr>\n",
       "      <th>...</th>\n",
       "      <td>...</td>\n",
       "      <td>...</td>\n",
       "      <td>...</td>\n",
       "      <td>...</td>\n",
       "      <td>...</td>\n",
       "      <td>...</td>\n",
       "      <td>...</td>\n",
       "      <td>...</td>\n",
       "      <td>...</td>\n",
       "      <td>...</td>\n",
       "    </tr>\n",
       "    <tr>\n",
       "      <th>180069</th>\n",
       "      <td>20240104</td>\n",
       "      <td>도착시간</td>\n",
       "      <td>2355</td>\n",
       "      <td>ST-914</td>\n",
       "      <td>상계5동_036_1</td>\n",
       "      <td>ST-2711</td>\n",
       "      <td>중계1동_001_1</td>\n",
       "      <td>1</td>\n",
       "      <td>30</td>\n",
       "      <td>1633</td>\n",
       "    </tr>\n",
       "    <tr>\n",
       "      <th>180070</th>\n",
       "      <td>20240104</td>\n",
       "      <td>도착시간</td>\n",
       "      <td>2355</td>\n",
       "      <td>ST-935</td>\n",
       "      <td>방배4동_002_1</td>\n",
       "      <td>ST-1916</td>\n",
       "      <td>방배본동_030_1</td>\n",
       "      <td>1</td>\n",
       "      <td>5</td>\n",
       "      <td>1961</td>\n",
       "    </tr>\n",
       "    <tr>\n",
       "      <th>180071</th>\n",
       "      <td>20240104</td>\n",
       "      <td>도착시간</td>\n",
       "      <td>2355</td>\n",
       "      <td>ST-942</td>\n",
       "      <td>면목5동_015_1</td>\n",
       "      <td>ST-262</td>\n",
       "      <td>장안2동_053_1</td>\n",
       "      <td>1</td>\n",
       "      <td>19</td>\n",
       "      <td>2777</td>\n",
       "    </tr>\n",
       "    <tr>\n",
       "      <th>180072</th>\n",
       "      <td>20240104</td>\n",
       "      <td>도착시간</td>\n",
       "      <td>2355</td>\n",
       "      <td>ST-96</td>\n",
       "      <td>상암동_060_1</td>\n",
       "      <td>ST-3272</td>\n",
       "      <td>성산2동_038_1</td>\n",
       "      <td>1</td>\n",
       "      <td>4</td>\n",
       "      <td>607</td>\n",
       "    </tr>\n",
       "    <tr>\n",
       "      <th>180073</th>\n",
       "      <td>20240104</td>\n",
       "      <td>도착시간</td>\n",
       "      <td>2355</td>\n",
       "      <td>ST-997</td>\n",
       "      <td>목4동_021_1</td>\n",
       "      <td>ST-1013</td>\n",
       "      <td>목3동_003_1</td>\n",
       "      <td>1</td>\n",
       "      <td>14</td>\n",
       "      <td>2660</td>\n",
       "    </tr>\n",
       "  </tbody>\n",
       "</table>\n",
       "<p>180074 rows × 10 columns</p>\n",
       "</div>"
      ],
      "text/plain": [
       "           기준_날짜 집계_기준  기준_시간대 시작_대여소_ID     시작_대여소명 종료_대여소_ID     종료_대여소명  \\\n",
       "0       20240104  출발시간       0   ST-1014  신정3동_101_1    ST-676  고척2동_035_1   \n",
       "1       20240104  출발시간       0   ST-1017   목5동_059_1    ST-310   목4동_047_1   \n",
       "2       20240104  출발시간       0   ST-1055   강일동_001_1   ST-2744   강일동_001_5   \n",
       "3       20240104  출발시간       0   ST-1082   장지동_019_1   ST-2599   장지동_012_3   \n",
       "4       20240104  출발시간       0   ST-1092  풍납2동_026_1    ST-502  성내1동_007_1   \n",
       "...          ...   ...     ...       ...         ...       ...         ...   \n",
       "180069  20240104  도착시간    2355    ST-914  상계5동_036_1   ST-2711  중계1동_001_1   \n",
       "180070  20240104  도착시간    2355    ST-935  방배4동_002_1   ST-1916  방배본동_030_1   \n",
       "180071  20240104  도착시간    2355    ST-942  면목5동_015_1    ST-262  장안2동_053_1   \n",
       "180072  20240104  도착시간    2355     ST-96   상암동_060_1   ST-3272  성산2동_038_1   \n",
       "180073  20240104  도착시간    2355    ST-997   목4동_021_1   ST-1013   목3동_003_1   \n",
       "\n",
       "        전체_건수  전체_이용_분  전체_이용_거리  \n",
       "0           1        6      2320  \n",
       "1           1        6       909  \n",
       "2           1       93     12860  \n",
       "3           1        5       910  \n",
       "4           1        5      1063  \n",
       "...       ...      ...       ...  \n",
       "180069      1       30      1633  \n",
       "180070      1        5      1961  \n",
       "180071      1       19      2777  \n",
       "180072      1        4       607  \n",
       "180073      1       14      2660  \n",
       "\n",
       "[180074 rows x 10 columns]"
      ]
     },
     "execution_count": 57,
     "metadata": {},
     "output_type": "execute_result"
    }
   ],
   "source": [
    "file_path1 = 'D:\\Code\\(최종)따릉이/tpss_bcycl_od_statnhm_20240104.csv'\n",
    "\n",
    "df_1 = pd.read_csv(file_path1,encoding='cp949')\n",
    "\n",
    "df_1\n"
   ]
  },
  {
   "cell_type": "code",
   "execution_count": 55,
   "metadata": {},
   "outputs": [
    {
     "name": "stdout",
     "output_type": "stream",
     "text": [
      "시작_대여소_ID\n",
      "ST-2031    991\n",
      "ST-1718    571\n",
      "ST-2045    546\n",
      "ST-1065    451\n",
      "ST-413     440\n",
      "ST-668     419\n",
      "ST-891     395\n",
      "ST-1938    369\n",
      "ST-2871    350\n",
      "ST-2557    343\n",
      "Name: count, dtype: int64\n",
      "********************************************************************************\n",
      "시작 대여소 ST-1014 인원들의 밸류값 : \n",
      "기준_날짜     집계_기준  기준_시간대  시작_대여소_ID  시작_대여소명     종료_대여소_ID  종료_대여소명     전체_건수  전체_이용_분  전체_이용_거리\n",
      "20240104  도착시간   5       ST-1014    신정3동_101_1  ST-676     고척2동_035_1  1      6        2320        1\n",
      "                 105     ST-1014    신정3동_101_1  ST-319     신월7동_002_1  1      8        980         1\n",
      "          출발시간   255     ST-1014    신정3동_101_1  ST-1526    오류1동_002_1  1      6        2290        1\n",
      "                 330     ST-1014    신정3동_101_1  ST-2008    신정3동_066_2  1      8        1165        1\n",
      "                 705     ST-1014    신정3동_101_1  ST-1231    수궁동_009_1   1      15       1756        1\n",
      "                 715     ST-1014    신정3동_101_1  ST-1218    신도림동_001_1  1      24       4454        1\n",
      "                 740     ST-1014    신정3동_101_1  ST-2484    방화2동_003_3  1      44       7716        1\n",
      "                 830     ST-1014    신정3동_101_1  ST-2771    신월6동_004_1  1      4        994         1\n",
      "                 935     ST-1014    신정3동_101_1  ST-1499    신정7동_001_1  1      10       1695        1\n",
      "                 940     ST-1014    신정3동_101_1  ST-2771    신월6동_004_1  1      6        1034        1\n",
      "                 1055    ST-1014    신정3동_101_1  ST-1007    신월7동_010_1  1      65       4152        1\n",
      "                 1555    ST-1014    신정3동_101_1  ST-2396    신정6동_019_3  1      13       2160        1\n",
      "                 1750    ST-1014    신정3동_101_1  ST-2012    신정6동_006_1  1      275      1557        1\n",
      "                 1825    ST-1014    신정3동_101_1  ST-2767    신월1동_041_1  1      20       2400        1\n",
      "                 2010    ST-1014    신정3동_101_1  ST-3224    신정3동_028_2  1      3        327         1\n",
      "                 2015    ST-1014    신정3동_101_1  ST-1005    신정1동_027_1  1      8        1318        1\n",
      "                 2025    ST-1014    신정3동_101_1  ST-2771    신월6동_004_1  1      17       923         1\n",
      "                 55      ST-1014    신정3동_101_1  ST-319     신월7동_002_1  1      8        980         1\n",
      "                 0       ST-1014    신정3동_101_1  ST-676     고척2동_035_1  1      6        2320        1\n",
      "          도착시간   2250    ST-1014    신정3동_101_1  ST-1230    개봉1동_026_1  1      6        1243        1\n",
      "                 945     ST-1014    신정3동_101_1  ST-2771    신월6동_004_1  1      6        1034        1\n",
      "                 300     ST-1014    신정3동_101_1  ST-1526    오류1동_002_1  1      6        2290        1\n",
      "                 340     ST-1014    신정3동_101_1  ST-2008    신정3동_066_2  1      8        1165        1\n",
      "                 720     ST-1014    신정3동_101_1  ST-1231    수궁동_009_1   1      15       1756        1\n",
      "                 740     ST-1014    신정3동_101_1  ST-1218    신도림동_001_1  1      24       4454        1\n",
      "                 825     ST-1014    신정3동_101_1  ST-2484    방화2동_003_3  1      44       7716        1\n",
      "                 835     ST-1014    신정3동_101_1  ST-2771    신월6동_004_1  1      4        994         1\n",
      "                 950     ST-1014    신정3동_101_1  ST-1499    신정7동_001_1  1      10       1695        1\n",
      "                 2230    ST-1014    신정3동_101_1  ST-2012    신정6동_006_1  1      275      1557        1\n",
      "                 1200    ST-1014    신정3동_101_1  ST-1007    신월7동_010_1  1      65       4152        1\n",
      "                 1610    ST-1014    신정3동_101_1  ST-2396    신정6동_019_3  1      13       2160        1\n",
      "                 1850    ST-1014    신정3동_101_1  ST-2767    신월1동_041_1  1      20       2400        1\n",
      "                 2010    ST-1014    신정3동_101_1  ST-3224    신정3동_028_2  1      3        327         1\n",
      "                 2025    ST-1014    신정3동_101_1  ST-1005    신정1동_027_1  1      8        1318        1\n",
      "                 2040    ST-1014    신정3동_101_1  ST-2771    신월6동_004_1  1      17       923         1\n",
      "          출발시간   2245    ST-1014    신정3동_101_1  ST-1230    개봉1동_026_1  1      6        1243        1\n",
      "Name: count, dtype: int64\n",
      "시작 대여소 ST-1014 인원들의 밸류값의 비율 : \n",
      "기준_날짜     집계_기준  기준_시간대  시작_대여소_ID  시작_대여소명     종료_대여소_ID  종료_대여소명     전체_건수  전체_이용_분  전체_이용_거리\n",
      "20240104  도착시간   5       ST-1014    신정3동_101_1  ST-676     고척2동_035_1  1      6        2320        0.027778\n",
      "                 105     ST-1014    신정3동_101_1  ST-319     신월7동_002_1  1      8        980         0.027778\n",
      "          출발시간   255     ST-1014    신정3동_101_1  ST-1526    오류1동_002_1  1      6        2290        0.027778\n",
      "                 330     ST-1014    신정3동_101_1  ST-2008    신정3동_066_2  1      8        1165        0.027778\n",
      "                 705     ST-1014    신정3동_101_1  ST-1231    수궁동_009_1   1      15       1756        0.027778\n",
      "                 715     ST-1014    신정3동_101_1  ST-1218    신도림동_001_1  1      24       4454        0.027778\n",
      "                 740     ST-1014    신정3동_101_1  ST-2484    방화2동_003_3  1      44       7716        0.027778\n",
      "                 830     ST-1014    신정3동_101_1  ST-2771    신월6동_004_1  1      4        994         0.027778\n",
      "                 935     ST-1014    신정3동_101_1  ST-1499    신정7동_001_1  1      10       1695        0.027778\n",
      "                 940     ST-1014    신정3동_101_1  ST-2771    신월6동_004_1  1      6        1034        0.027778\n",
      "                 1055    ST-1014    신정3동_101_1  ST-1007    신월7동_010_1  1      65       4152        0.027778\n",
      "                 1555    ST-1014    신정3동_101_1  ST-2396    신정6동_019_3  1      13       2160        0.027778\n",
      "                 1750    ST-1014    신정3동_101_1  ST-2012    신정6동_006_1  1      275      1557        0.027778\n",
      "                 1825    ST-1014    신정3동_101_1  ST-2767    신월1동_041_1  1      20       2400        0.027778\n",
      "                 2010    ST-1014    신정3동_101_1  ST-3224    신정3동_028_2  1      3        327         0.027778\n",
      "                 2015    ST-1014    신정3동_101_1  ST-1005    신정1동_027_1  1      8        1318        0.027778\n",
      "                 2025    ST-1014    신정3동_101_1  ST-2771    신월6동_004_1  1      17       923         0.027778\n",
      "                 55      ST-1014    신정3동_101_1  ST-319     신월7동_002_1  1      8        980         0.027778\n",
      "                 0       ST-1014    신정3동_101_1  ST-676     고척2동_035_1  1      6        2320        0.027778\n",
      "          도착시간   2250    ST-1014    신정3동_101_1  ST-1230    개봉1동_026_1  1      6        1243        0.027778\n",
      "                 945     ST-1014    신정3동_101_1  ST-2771    신월6동_004_1  1      6        1034        0.027778\n",
      "                 300     ST-1014    신정3동_101_1  ST-1526    오류1동_002_1  1      6        2290        0.027778\n",
      "                 340     ST-1014    신정3동_101_1  ST-2008    신정3동_066_2  1      8        1165        0.027778\n",
      "                 720     ST-1014    신정3동_101_1  ST-1231    수궁동_009_1   1      15       1756        0.027778\n",
      "                 740     ST-1014    신정3동_101_1  ST-1218    신도림동_001_1  1      24       4454        0.027778\n",
      "                 825     ST-1014    신정3동_101_1  ST-2484    방화2동_003_3  1      44       7716        0.027778\n",
      "                 835     ST-1014    신정3동_101_1  ST-2771    신월6동_004_1  1      4        994         0.027778\n",
      "                 950     ST-1014    신정3동_101_1  ST-1499    신정7동_001_1  1      10       1695        0.027778\n",
      "                 2230    ST-1014    신정3동_101_1  ST-2012    신정6동_006_1  1      275      1557        0.027778\n",
      "                 1200    ST-1014    신정3동_101_1  ST-1007    신월7동_010_1  1      65       4152        0.027778\n",
      "                 1610    ST-1014    신정3동_101_1  ST-2396    신정6동_019_3  1      13       2160        0.027778\n",
      "                 1850    ST-1014    신정3동_101_1  ST-2767    신월1동_041_1  1      20       2400        0.027778\n",
      "                 2010    ST-1014    신정3동_101_1  ST-3224    신정3동_028_2  1      3        327         0.027778\n",
      "                 2025    ST-1014    신정3동_101_1  ST-1005    신정1동_027_1  1      8        1318        0.027778\n",
      "                 2040    ST-1014    신정3동_101_1  ST-2771    신월6동_004_1  1      17       923         0.027778\n",
      "          출발시간   2245    ST-1014    신정3동_101_1  ST-1230    개봉1동_026_1  1      6        1243        0.027778\n",
      "Name: proportion, dtype: float64\n"
     ]
    }
   ],
   "source": [
    "\n",
    "s_rent_id = df_1['시작_대여소_ID'].value_counts(ascending=False)[:10]\n",
    "\n",
    "print(s_rent_id)\n",
    "\n",
    "# ST-1014에서 대여한 사람들의 정보\n",
    "\n",
    "condition = df_1['시작_대여소_ID']=='ST-1014'\n",
    "\n",
    "print('*'*80)\n",
    "\n",
    "counts = df_1.loc[condition,:].value_counts()\n",
    "\n",
    "print(f'시작 대여소 ST-1014 인원들의 밸류값 : \\n{counts}')\n",
    "\n",
    "counts\n",
    "\n",
    "ratio = df_1.loc[condition,:].value_counts(normalize=True)\n",
    "\n",
    "ratio\n",
    "\n",
    "print(f'시작 대여소 ST-1014 인원들의 밸류값의 비율 : \\n{ratio}')\n",
    "\n",
    "\n",
    "# 어디로 갔을까? 이동패턴이 몰까? 날짜별로 value_counts()"
   ]
  },
  {
   "cell_type": "markdown",
   "metadata": {},
   "source": [
    "### 결측치가 과다한 컬럼 제거"
   ]
  },
  {
   "cell_type": "code",
   "execution_count": 32,
   "metadata": {},
   "outputs": [
    {
     "name": "stdout",
     "output_type": "stream",
     "text": [
      "           기준_날짜 집계_기준  기준_시간대 시작_대여소_ID     시작_대여소명 종료_대여소_ID  전체_건수  \\\n",
      "0       20240104  출발시간       0   ST-1014  신정3동_101_1    ST-676      1   \n",
      "1       20240104  출발시간       0   ST-1017   목5동_059_1    ST-310      1   \n",
      "2       20240104  출발시간       0   ST-1055   강일동_001_1   ST-2744      1   \n",
      "3       20240104  출발시간       0   ST-1082   장지동_019_1   ST-2599      1   \n",
      "4       20240104  출발시간       0   ST-1092  풍납2동_026_1    ST-502      1   \n",
      "...          ...   ...     ...       ...         ...       ...    ...   \n",
      "180069  20240104  도착시간    2355    ST-914  상계5동_036_1   ST-2711      1   \n",
      "180070  20240104  도착시간    2355    ST-935  방배4동_002_1   ST-1916      1   \n",
      "180071  20240104  도착시간    2355    ST-942  면목5동_015_1    ST-262      1   \n",
      "180072  20240104  도착시간    2355     ST-96   상암동_060_1   ST-3272      1   \n",
      "180073  20240104  도착시간    2355    ST-997   목4동_021_1   ST-1013      1   \n",
      "\n",
      "        전체_이용_분  전체_이용_거리  \n",
      "0             6      2320  \n",
      "1             6       909  \n",
      "2            93     12860  \n",
      "3             5       910  \n",
      "4             5      1063  \n",
      "...         ...       ...  \n",
      "180069       30      1633  \n",
      "180070        5      1961  \n",
      "180071       19      2777  \n",
      "180072        4       607  \n",
      "180073       14      2660  \n",
      "\n",
      "[180074 rows x 9 columns]\n"
     ]
    }
   ],
   "source": [
    "df_1.drop(columns=['종료_대여소명'],inplace=True)\n",
    "\n",
    "print(df_1)"
   ]
  },
  {
   "cell_type": "markdown",
   "metadata": {},
   "source": [
    "### 불필요한 컬럼 제거"
   ]
  },
  {
   "cell_type": "code",
   "execution_count": 33,
   "metadata": {},
   "outputs": [
    {
     "name": "stdout",
     "output_type": "stream",
     "text": [
      "Index(['기준_날짜', '집계_기준', '기준_시간대', '시작_대여소_ID', '시작_대여소명', '종료_대여소_ID',\n",
      "       '전체_건수', '전체_이용_분', '전체_이용_거리'],\n",
      "      dtype='object')\n"
     ]
    }
   ],
   "source": [
    "columns = df_1.columns\n",
    "print(columns)"
   ]
  },
  {
   "cell_type": "code",
   "execution_count": 34,
   "metadata": {},
   "outputs": [
    {
     "name": "stdout",
     "output_type": "stream",
     "text": [
      "           기준_날짜  기준_시간대 시작_대여소_ID     시작_대여소명 종료_대여소_ID  전체_이용_분  전체_이용_거리\n",
      "0       20240104       0   ST-1014  신정3동_101_1    ST-676        6      2320\n",
      "1       20240104       0   ST-1017   목5동_059_1    ST-310        6       909\n",
      "2       20240104       0   ST-1055   강일동_001_1   ST-2744       93     12860\n",
      "3       20240104       0   ST-1082   장지동_019_1   ST-2599        5       910\n",
      "4       20240104       0   ST-1092  풍납2동_026_1    ST-502        5      1063\n",
      "...          ...     ...       ...         ...       ...      ...       ...\n",
      "180069  20240104    2355    ST-914  상계5동_036_1   ST-2711       30      1633\n",
      "180070  20240104    2355    ST-935  방배4동_002_1   ST-1916        5      1961\n",
      "180071  20240104    2355    ST-942  면목5동_015_1    ST-262       19      2777\n",
      "180072  20240104    2355     ST-96   상암동_060_1   ST-3272        4       607\n",
      "180073  20240104    2355    ST-997   목4동_021_1   ST-1013       14      2660\n",
      "\n",
      "[180074 rows x 7 columns]\n"
     ]
    }
   ],
   "source": [
    "df_1.drop(columns=['집계_기준', '전체_건수'],inplace=True)\n",
    "print(df_1)"
   ]
  },
  {
   "cell_type": "code",
   "execution_count": 35,
   "metadata": {},
   "outputs": [
    {
     "name": "stdout",
     "output_type": "stream",
     "text": [
      "1월 4일 데이터프레임 : \n",
      "           기준_날짜  기준_시간대 시작_대여소_ID     시작_대여소명 종료_대여소_ID  전체_이용_분  전체_이용_거리\n",
      "0       20240104       0   ST-1014  신정3동_101_1    ST-676        6      2320\n",
      "1       20240104       0   ST-1017   목5동_059_1    ST-310        6       909\n",
      "2       20240104       0   ST-1055   강일동_001_1   ST-2744       93     12860\n",
      "3       20240104       0   ST-1082   장지동_019_1   ST-2599        5       910\n",
      "4       20240104       0   ST-1092  풍납2동_026_1    ST-502        5      1063\n",
      "...          ...     ...       ...         ...       ...      ...       ...\n",
      "180069  20240104    2355    ST-914  상계5동_036_1   ST-2711       30      1633\n",
      "180070  20240104    2355    ST-935  방배4동_002_1   ST-1916        5      1961\n",
      "180071  20240104    2355    ST-942  면목5동_015_1    ST-262       19      2777\n",
      "180072  20240104    2355     ST-96   상암동_060_1   ST-3272        4       607\n",
      "180073  20240104    2355    ST-997   목4동_021_1   ST-1013       14      2660\n",
      "\n",
      "[180074 rows x 7 columns]\n"
     ]
    }
   ],
   "source": [
    "print(f'1월 4일 데이터프레임 : \\n{df_1}')"
   ]
  },
  {
   "cell_type": "markdown",
   "metadata": {},
   "source": [
    "## EDA"
   ]
  },
  {
   "cell_type": "code",
   "execution_count": 36,
   "metadata": {},
   "outputs": [],
   "source": [
    "### 사용시간대별 총 이동거리의 시각화\n",
    "#sns.kdeplot(data=df_1, x='Time', hue='Total Distance')\n",
    "#plt.show()\n"
   ]
  },
  {
   "cell_type": "code",
   "execution_count": 37,
   "metadata": {},
   "outputs": [
    {
     "ename": "ValueError",
     "evalue": "Could not interpret value `Used_Time` for parameter `x`",
     "output_type": "error",
     "traceback": [
      "\u001b[1;31m---------------------------------------------------------------------------\u001b[0m",
      "\u001b[1;31mValueError\u001b[0m                                Traceback (most recent call last)",
      "Cell \u001b[1;32mIn[37], line 2\u001b[0m\n\u001b[0;32m      1\u001b[0m \u001b[38;5;66;03m### 사용시간대별 총 이용시간의 시각화\u001b[39;00m\n\u001b[1;32m----> 2\u001b[0m sns\u001b[38;5;241m.\u001b[39mscatterplot(data\u001b[38;5;241m=\u001b[39mdf_1, x\u001b[38;5;241m=\u001b[39m\u001b[38;5;124m'\u001b[39m\u001b[38;5;124mUsed_Time\u001b[39m\u001b[38;5;124m'\u001b[39m, y\u001b[38;5;241m=\u001b[39m\u001b[38;5;124m'\u001b[39m\u001b[38;5;124mTotal Distance\u001b[39m\u001b[38;5;124m'\u001b[39m)\n\u001b[0;32m      3\u001b[0m plt\u001b[38;5;241m.\u001b[39mshow()\n",
      "File \u001b[1;32mc:\\Users\\human\\anaconda3\\Lib\\site-packages\\seaborn\\relational.py:742\u001b[0m, in \u001b[0;36mscatterplot\u001b[1;34m(data, x, y, hue, size, style, palette, hue_order, hue_norm, sizes, size_order, size_norm, markers, style_order, legend, ax, **kwargs)\u001b[0m\n\u001b[0;32m    732\u001b[0m \u001b[38;5;28;01mdef\u001b[39;00m \u001b[38;5;21mscatterplot\u001b[39m(\n\u001b[0;32m    733\u001b[0m     data\u001b[38;5;241m=\u001b[39m\u001b[38;5;28;01mNone\u001b[39;00m, \u001b[38;5;241m*\u001b[39m,\n\u001b[0;32m    734\u001b[0m     x\u001b[38;5;241m=\u001b[39m\u001b[38;5;28;01mNone\u001b[39;00m, y\u001b[38;5;241m=\u001b[39m\u001b[38;5;28;01mNone\u001b[39;00m, hue\u001b[38;5;241m=\u001b[39m\u001b[38;5;28;01mNone\u001b[39;00m, size\u001b[38;5;241m=\u001b[39m\u001b[38;5;28;01mNone\u001b[39;00m, style\u001b[38;5;241m=\u001b[39m\u001b[38;5;28;01mNone\u001b[39;00m,\n\u001b[1;32m   (...)\u001b[0m\n\u001b[0;32m    738\u001b[0m     \u001b[38;5;241m*\u001b[39m\u001b[38;5;241m*\u001b[39mkwargs\n\u001b[0;32m    739\u001b[0m ):\n\u001b[0;32m    741\u001b[0m     variables \u001b[38;5;241m=\u001b[39m _ScatterPlotter\u001b[38;5;241m.\u001b[39mget_semantics(\u001b[38;5;28mlocals\u001b[39m())\n\u001b[1;32m--> 742\u001b[0m     p \u001b[38;5;241m=\u001b[39m _ScatterPlotter(data\u001b[38;5;241m=\u001b[39mdata, variables\u001b[38;5;241m=\u001b[39mvariables, legend\u001b[38;5;241m=\u001b[39mlegend)\n\u001b[0;32m    744\u001b[0m     p\u001b[38;5;241m.\u001b[39mmap_hue(palette\u001b[38;5;241m=\u001b[39mpalette, order\u001b[38;5;241m=\u001b[39mhue_order, norm\u001b[38;5;241m=\u001b[39mhue_norm)\n\u001b[0;32m    745\u001b[0m     p\u001b[38;5;241m.\u001b[39mmap_size(sizes\u001b[38;5;241m=\u001b[39msizes, order\u001b[38;5;241m=\u001b[39msize_order, norm\u001b[38;5;241m=\u001b[39msize_norm)\n",
      "File \u001b[1;32mc:\\Users\\human\\anaconda3\\Lib\\site-packages\\seaborn\\relational.py:538\u001b[0m, in \u001b[0;36m_ScatterPlotter.__init__\u001b[1;34m(self, data, variables, legend)\u001b[0m\n\u001b[0;32m    529\u001b[0m \u001b[38;5;28;01mdef\u001b[39;00m \u001b[38;5;21m__init__\u001b[39m(\u001b[38;5;28mself\u001b[39m, \u001b[38;5;241m*\u001b[39m, data\u001b[38;5;241m=\u001b[39m\u001b[38;5;28;01mNone\u001b[39;00m, variables\u001b[38;5;241m=\u001b[39m{}, legend\u001b[38;5;241m=\u001b[39m\u001b[38;5;28;01mNone\u001b[39;00m):\n\u001b[0;32m    530\u001b[0m \n\u001b[0;32m    531\u001b[0m     \u001b[38;5;66;03m# TODO this is messy, we want the mapping to be agnostic about\u001b[39;00m\n\u001b[0;32m    532\u001b[0m     \u001b[38;5;66;03m# the kind of plot to draw, but for the time being we need to set\u001b[39;00m\n\u001b[0;32m    533\u001b[0m     \u001b[38;5;66;03m# this information so the SizeMapping can use it\u001b[39;00m\n\u001b[0;32m    534\u001b[0m     \u001b[38;5;28mself\u001b[39m\u001b[38;5;241m.\u001b[39m_default_size_range \u001b[38;5;241m=\u001b[39m (\n\u001b[0;32m    535\u001b[0m         np\u001b[38;5;241m.\u001b[39mr_[\u001b[38;5;241m.5\u001b[39m, \u001b[38;5;241m2\u001b[39m] \u001b[38;5;241m*\u001b[39m np\u001b[38;5;241m.\u001b[39msquare(mpl\u001b[38;5;241m.\u001b[39mrcParams[\u001b[38;5;124m\"\u001b[39m\u001b[38;5;124mlines.markersize\u001b[39m\u001b[38;5;124m\"\u001b[39m])\n\u001b[0;32m    536\u001b[0m     )\n\u001b[1;32m--> 538\u001b[0m     \u001b[38;5;28msuper\u001b[39m()\u001b[38;5;241m.\u001b[39m\u001b[38;5;21m__init__\u001b[39m(data\u001b[38;5;241m=\u001b[39mdata, variables\u001b[38;5;241m=\u001b[39mvariables)\n\u001b[0;32m    540\u001b[0m     \u001b[38;5;28mself\u001b[39m\u001b[38;5;241m.\u001b[39mlegend \u001b[38;5;241m=\u001b[39m legend\n",
      "File \u001b[1;32mc:\\Users\\human\\anaconda3\\Lib\\site-packages\\seaborn\\_oldcore.py:640\u001b[0m, in \u001b[0;36mVectorPlotter.__init__\u001b[1;34m(self, data, variables)\u001b[0m\n\u001b[0;32m    635\u001b[0m \u001b[38;5;66;03m# var_ordered is relevant only for categorical axis variables, and may\u001b[39;00m\n\u001b[0;32m    636\u001b[0m \u001b[38;5;66;03m# be better handled by an internal axis information object that tracks\u001b[39;00m\n\u001b[0;32m    637\u001b[0m \u001b[38;5;66;03m# such information and is set up by the scale_* methods. The analogous\u001b[39;00m\n\u001b[0;32m    638\u001b[0m \u001b[38;5;66;03m# information for numeric axes would be information about log scales.\u001b[39;00m\n\u001b[0;32m    639\u001b[0m \u001b[38;5;28mself\u001b[39m\u001b[38;5;241m.\u001b[39m_var_ordered \u001b[38;5;241m=\u001b[39m {\u001b[38;5;124m\"\u001b[39m\u001b[38;5;124mx\u001b[39m\u001b[38;5;124m\"\u001b[39m: \u001b[38;5;28;01mFalse\u001b[39;00m, \u001b[38;5;124m\"\u001b[39m\u001b[38;5;124my\u001b[39m\u001b[38;5;124m\"\u001b[39m: \u001b[38;5;28;01mFalse\u001b[39;00m}  \u001b[38;5;66;03m# alt., used DefaultDict\u001b[39;00m\n\u001b[1;32m--> 640\u001b[0m \u001b[38;5;28mself\u001b[39m\u001b[38;5;241m.\u001b[39massign_variables(data, variables)\n\u001b[0;32m    642\u001b[0m \u001b[38;5;28;01mfor\u001b[39;00m var, \u001b[38;5;28mcls\u001b[39m \u001b[38;5;129;01min\u001b[39;00m \u001b[38;5;28mself\u001b[39m\u001b[38;5;241m.\u001b[39m_semantic_mappings\u001b[38;5;241m.\u001b[39mitems():\n\u001b[0;32m    643\u001b[0m \n\u001b[0;32m    644\u001b[0m     \u001b[38;5;66;03m# Create the mapping function\u001b[39;00m\n\u001b[0;32m    645\u001b[0m     map_func \u001b[38;5;241m=\u001b[39m partial(\u001b[38;5;28mcls\u001b[39m\u001b[38;5;241m.\u001b[39mmap, plotter\u001b[38;5;241m=\u001b[39m\u001b[38;5;28mself\u001b[39m)\n",
      "File \u001b[1;32mc:\\Users\\human\\anaconda3\\Lib\\site-packages\\seaborn\\_oldcore.py:701\u001b[0m, in \u001b[0;36mVectorPlotter.assign_variables\u001b[1;34m(self, data, variables)\u001b[0m\n\u001b[0;32m    699\u001b[0m \u001b[38;5;28;01melse\u001b[39;00m:\n\u001b[0;32m    700\u001b[0m     \u001b[38;5;28mself\u001b[39m\u001b[38;5;241m.\u001b[39minput_format \u001b[38;5;241m=\u001b[39m \u001b[38;5;124m\"\u001b[39m\u001b[38;5;124mlong\u001b[39m\u001b[38;5;124m\"\u001b[39m\n\u001b[1;32m--> 701\u001b[0m     plot_data, variables \u001b[38;5;241m=\u001b[39m \u001b[38;5;28mself\u001b[39m\u001b[38;5;241m.\u001b[39m_assign_variables_longform(\n\u001b[0;32m    702\u001b[0m         data, \u001b[38;5;241m*\u001b[39m\u001b[38;5;241m*\u001b[39mvariables,\n\u001b[0;32m    703\u001b[0m     )\n\u001b[0;32m    705\u001b[0m \u001b[38;5;28mself\u001b[39m\u001b[38;5;241m.\u001b[39mplot_data \u001b[38;5;241m=\u001b[39m plot_data\n\u001b[0;32m    706\u001b[0m \u001b[38;5;28mself\u001b[39m\u001b[38;5;241m.\u001b[39mvariables \u001b[38;5;241m=\u001b[39m variables\n",
      "File \u001b[1;32mc:\\Users\\human\\anaconda3\\Lib\\site-packages\\seaborn\\_oldcore.py:938\u001b[0m, in \u001b[0;36mVectorPlotter._assign_variables_longform\u001b[1;34m(self, data, **kwargs)\u001b[0m\n\u001b[0;32m    933\u001b[0m \u001b[38;5;28;01melif\u001b[39;00m \u001b[38;5;28misinstance\u001b[39m(val, (\u001b[38;5;28mstr\u001b[39m, \u001b[38;5;28mbytes\u001b[39m)):\n\u001b[0;32m    934\u001b[0m \n\u001b[0;32m    935\u001b[0m     \u001b[38;5;66;03m# This looks like a column name but we don't know what it means!\u001b[39;00m\n\u001b[0;32m    937\u001b[0m     err \u001b[38;5;241m=\u001b[39m \u001b[38;5;124mf\u001b[39m\u001b[38;5;124m\"\u001b[39m\u001b[38;5;124mCould not interpret value `\u001b[39m\u001b[38;5;132;01m{\u001b[39;00mval\u001b[38;5;132;01m}\u001b[39;00m\u001b[38;5;124m` for parameter `\u001b[39m\u001b[38;5;132;01m{\u001b[39;00mkey\u001b[38;5;132;01m}\u001b[39;00m\u001b[38;5;124m`\u001b[39m\u001b[38;5;124m\"\u001b[39m\n\u001b[1;32m--> 938\u001b[0m     \u001b[38;5;28;01mraise\u001b[39;00m \u001b[38;5;167;01mValueError\u001b[39;00m(err)\n\u001b[0;32m    940\u001b[0m \u001b[38;5;28;01melse\u001b[39;00m:\n\u001b[0;32m    941\u001b[0m \n\u001b[0;32m    942\u001b[0m     \u001b[38;5;66;03m# Otherwise, assume the value is itself data\u001b[39;00m\n\u001b[0;32m    943\u001b[0m \n\u001b[0;32m    944\u001b[0m     \u001b[38;5;66;03m# Raise when data object is present and a vector can't matched\u001b[39;00m\n\u001b[0;32m    945\u001b[0m     \u001b[38;5;28;01mif\u001b[39;00m \u001b[38;5;28misinstance\u001b[39m(data, pd\u001b[38;5;241m.\u001b[39mDataFrame) \u001b[38;5;129;01mand\u001b[39;00m \u001b[38;5;129;01mnot\u001b[39;00m \u001b[38;5;28misinstance\u001b[39m(val, pd\u001b[38;5;241m.\u001b[39mSeries):\n",
      "\u001b[1;31mValueError\u001b[0m: Could not interpret value `Used_Time` for parameter `x`"
     ]
    }
   ],
   "source": [
    "### 사용시간대별 총 이용시간의 시각화\n",
    "sns.scatterplot(data=df_1, x='Used_Time', y='Total Distance')\n",
    "plt.show()\n"
   ]
  },
  {
   "cell_type": "markdown",
   "metadata": {},
   "source": [
    "## 서울시 따릉이 일별 이용 현황(20240105)"
   ]
  },
  {
   "cell_type": "code",
   "execution_count": null,
   "metadata": {},
   "outputs": [],
   "source": [
    "file_path2 = 'D:\\Code\\(최종)따릉이/tpss_bcycl_od_statnhm_20240105.csv'\n",
    "\n",
    "df_2 = pd.read_csv(file_path2, encoding='cp949')\n",
    "\n",
    "print(f'20240105 데이터프레임 : \\n{df_2}')\n",
    "\n",
    "df_2.isnull().sum()"
   ]
  },
  {
   "cell_type": "code",
   "execution_count": null,
   "metadata": {},
   "outputs": [],
   "source": [
    "df_2.drop(columns=['종료_대여소명'],inplace=True)\n",
    "\n",
    "print(df_2)"
   ]
  },
  {
   "cell_type": "markdown",
   "metadata": {},
   "source": [
    "### 불필요한 컬럼 제거"
   ]
  },
  {
   "cell_type": "code",
   "execution_count": null,
   "metadata": {},
   "outputs": [],
   "source": [
    "columns = df_2.columns\n",
    "print(columns)"
   ]
  },
  {
   "cell_type": "code",
   "execution_count": null,
   "metadata": {},
   "outputs": [],
   "source": [
    "df_2.drop(columns=['집계_기준', '전체_건수'],inplace=True)\n",
    "print(df_2)"
   ]
  },
  {
   "cell_type": "code",
   "execution_count": null,
   "metadata": {},
   "outputs": [],
   "source": [
    "print(f'1월 5일 데이터프레임 : \\n{df_2}')"
   ]
  },
  {
   "cell_type": "markdown",
   "metadata": {},
   "source": [
    "## EDA"
   ]
  },
  {
   "cell_type": "code",
   "execution_count": null,
   "metadata": {},
   "outputs": [],
   "source": [
    "### 사용시간대별 총 이동거리의 시각화\n",
    "#sns.kdeplot(data=df_1, x='Time', hue='Total Distance')\n",
    "#plt.show()\n"
   ]
  },
  {
   "cell_type": "code",
   "execution_count": null,
   "metadata": {},
   "outputs": [],
   "source": [
    "### 사용시간대별 총 이용시간의 시각화\n",
    "sns.scatterplot(data=df_2, x='Used_Time', y='Total Distance')\n",
    "plt.show()\n"
   ]
  },
  {
   "cell_type": "markdown",
   "metadata": {},
   "source": [
    "## 서울시 따릉이 일별 이용 현황(20240106)"
   ]
  },
  {
   "cell_type": "code",
   "execution_count": null,
   "metadata": {},
   "outputs": [],
   "source": [
    "file_path3 = 'D:\\Code\\(최종)따릉이/tpss_bcycl_od_statnhm_20240106.csv'\n",
    "\n",
    "df_3 = pd.read_csv(file_path3, encoding='cp949')\n",
    "\n",
    "print(f'20240106 데이터프레임 : \\n{df_3}')\n",
    "\n",
    "# 결측치 확인\n",
    "\n",
    "df_3.isnull().sum()"
   ]
  },
  {
   "cell_type": "code",
   "execution_count": null,
   "metadata": {},
   "outputs": [],
   "source": [
    "df_3.drop(columns=['종료_대여소명'],inplace=True)\n",
    "\n",
    "print(df_3)"
   ]
  },
  {
   "cell_type": "markdown",
   "metadata": {},
   "source": [
    "### 불필요한 컬럼 제거"
   ]
  },
  {
   "cell_type": "code",
   "execution_count": null,
   "metadata": {},
   "outputs": [],
   "source": [
    "columns = df_3.columns\n",
    "print(columns)"
   ]
  },
  {
   "cell_type": "code",
   "execution_count": null,
   "metadata": {},
   "outputs": [],
   "source": [
    "df_3.drop(columns=['집계_기준', '전체_건수'],inplace=True)\n",
    "print(df_3)"
   ]
  },
  {
   "cell_type": "code",
   "execution_count": null,
   "metadata": {},
   "outputs": [],
   "source": [
    "print(f'1월 5일 데이터프레임 : \\n{df_3}')"
   ]
  },
  {
   "cell_type": "markdown",
   "metadata": {},
   "source": [
    "## EDA"
   ]
  },
  {
   "cell_type": "code",
   "execution_count": null,
   "metadata": {},
   "outputs": [],
   "source": [
    "### 사용시간대별 총 이동거리의 시각화\n",
    "#sns.kdeplot(data=df_1, x='Time', hue='Total Distance')\n",
    "#plt.show()\n"
   ]
  },
  {
   "cell_type": "code",
   "execution_count": null,
   "metadata": {},
   "outputs": [],
   "source": [
    "### 사용시간대별 총 이용시간의 시각화\n",
    "sns.scatterplot(data=df_3, x='Used_Time', y='Total Distance')\n",
    "plt.show()\n"
   ]
  }
 ],
 "metadata": {
  "kernelspec": {
   "display_name": "NvulyTarget",
   "language": "python",
   "name": "conda"
  },
  "language_info": {
   "codemirror_mode": {
    "name": "ipython",
    "version": 3
   },
   "file_extension": ".py",
   "mimetype": "text/x-python",
   "name": "python",
   "nbconvert_exporter": "python",
   "pygments_lexer": "ipython3",
   "version": "3.11.5"
  }
 },
 "nbformat": 4,
 "nbformat_minor": 2
}
