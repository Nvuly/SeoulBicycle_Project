{
 "cells": [
  {
   "cell_type": "code",
   "execution_count": 1,
   "metadata": {},
   "outputs": [],
   "source": [
    "import pandas as pd\n",
    "import numpy as np\n",
    "import matplotlib.pyplot as plt\n",
    "import seaborn as sns\n",
    "import os\n",
    "import random\n",
    "#-----한글깨짐방지 코드라인-----\n",
    "from matplotlib import font_manager, rc\n",
    "\n",
    "font_name = font_manager.FontProperties(fname=\"c:/Windows/Fonts/malgun.ttf\").get_name()\n",
    "rc('font', family=font_name)\n"
   ]
  },
  {
   "cell_type": "markdown",
   "metadata": {},
   "source": [
    "## Load Data"
   ]
  },
  {
   "cell_type": "code",
   "execution_count": 2,
   "metadata": {},
   "outputs": [
    {
     "name": "stdout",
     "output_type": "stream",
     "text": [
      "       대여소_ID                      주소1            주소2         위도          경도\n",
      "0      ST-999       서울특별시 양천구 목동서로 280  목동아파트 8단지 상가동   0.000000    0.000000\n",
      "1      ST-998       서울특별시 양천구 목동서로 130  목동아파트 4단지 상가동   0.000000    0.000000\n",
      "2      ST-997       서울특별시 양천구 목동중앙로 49  목동3단지 시내버스정류장  37.534390  126.869598\n",
      "3      ST-996   서울특별시 양천구 남부순환로88길5-16     양강중학교앞 교차로  37.524334  126.850548\n",
      "4      ST-995  서울특별시 양천구 중앙로 153 공중화장실            NaN  37.510597  126.857323\n",
      "...       ...                      ...            ...        ...         ...\n",
      "3265  ST-1002     서울특별시 양천구 목동동로 316-6   서울시 도로환경관리센터  37.529900  126.876541\n",
      "3266  ST-1001      서울특별시 양천구 남부순환로4길20        서서울호수공원   0.000000    0.000000\n",
      "3267  ST-1000        서울특별시 양천구 신정동 236    서부식자재마트 건너편  37.510380  126.866798\n",
      "3268   ST-100       서울특별시 광진구 아차산로 262    더샵스타시티 C동 앞  37.536667  127.073593\n",
      "3269    ST-10         서울특별시 마포구 양화로 93            427  37.552746  126.918617\n",
      "\n",
      "[3270 rows x 5 columns]\n"
     ]
    },
    {
     "data": {
      "text/plain": [
       "대여소_ID       0\n",
       "주소1          0\n",
       "주소2       1757\n",
       "위도           0\n",
       "경도           0\n",
       "dtype: int64"
      ]
     },
     "execution_count": 2,
     "metadata": {},
     "output_type": "execute_result"
    }
   ],
   "source": [
    "master_path = 'D:\\Code\\(최종)따릉이/서울시 따릉이대여소 마스터 정보.csv'\n",
    "\n",
    "df_master = pd.read_csv(master_path,encoding='cp949')\n",
    "\n",
    "print(df_master)\n",
    "\n",
    "df_master.isnull().sum()"
   ]
  },
  {
   "cell_type": "code",
   "execution_count": 3,
   "metadata": {},
   "outputs": [
    {
     "name": "stdout",
     "output_type": "stream",
     "text": [
      "       대여소_ID                      주소1         위도          경도\n",
      "0      ST-999       서울특별시 양천구 목동서로 280   0.000000    0.000000\n",
      "1      ST-998       서울특별시 양천구 목동서로 130   0.000000    0.000000\n",
      "2      ST-997       서울특별시 양천구 목동중앙로 49  37.534390  126.869598\n",
      "3      ST-996   서울특별시 양천구 남부순환로88길5-16  37.524334  126.850548\n",
      "4      ST-995  서울특별시 양천구 중앙로 153 공중화장실  37.510597  126.857323\n",
      "...       ...                      ...        ...         ...\n",
      "3265  ST-1002     서울특별시 양천구 목동동로 316-6  37.529900  126.876541\n",
      "3266  ST-1001      서울특별시 양천구 남부순환로4길20   0.000000    0.000000\n",
      "3267  ST-1000        서울특별시 양천구 신정동 236  37.510380  126.866798\n",
      "3268   ST-100       서울특별시 광진구 아차산로 262  37.536667  127.073593\n",
      "3269    ST-10         서울특별시 마포구 양화로 93  37.552746  126.918617\n",
      "\n",
      "[3270 rows x 4 columns]\n"
     ]
    }
   ],
   "source": [
    "df_master.drop(columns=['주소2'],inplace=True)\n",
    "\n",
    "print(df_master)"
   ]
  },
  {
   "cell_type": "markdown",
   "metadata": {},
   "source": [
    "## 서울시 따릉이 일별 이용 현황(20240104)"
   ]
  },
  {
   "cell_type": "code",
   "execution_count": 4,
   "metadata": {},
   "outputs": [
    {
     "name": "stdout",
     "output_type": "stream",
     "text": [
      "20240104 데이터프레임 : \n",
      "           기준_날짜 집계_기준  기준_시간대 시작_대여소_ID     시작_대여소명 종료_대여소_ID     종료_대여소명  \\\n",
      "0       20240104  출발시간       0   ST-1014  신정3동_101_1    ST-676  고척2동_035_1   \n",
      "1       20240104  출발시간       0   ST-1017   목5동_059_1    ST-310   목4동_047_1   \n",
      "2       20240104  출발시간       0   ST-1055   강일동_001_1   ST-2744   강일동_001_5   \n",
      "3       20240104  출발시간       0   ST-1082   장지동_019_1   ST-2599   장지동_012_3   \n",
      "4       20240104  출발시간       0   ST-1092  풍납2동_026_1    ST-502  성내1동_007_1   \n",
      "...          ...   ...     ...       ...         ...       ...         ...   \n",
      "180069  20240104  도착시간    2355    ST-914  상계5동_036_1   ST-2711  중계1동_001_1   \n",
      "180070  20240104  도착시간    2355    ST-935  방배4동_002_1   ST-1916  방배본동_030_1   \n",
      "180071  20240104  도착시간    2355    ST-942  면목5동_015_1    ST-262  장안2동_053_1   \n",
      "180072  20240104  도착시간    2355     ST-96   상암동_060_1   ST-3272  성산2동_038_1   \n",
      "180073  20240104  도착시간    2355    ST-997   목4동_021_1   ST-1013   목3동_003_1   \n",
      "\n",
      "        전체_건수  전체_이용_분  전체_이용_거리  \n",
      "0           1        6      2320  \n",
      "1           1        6       909  \n",
      "2           1       93     12860  \n",
      "3           1        5       910  \n",
      "4           1        5      1063  \n",
      "...       ...      ...       ...  \n",
      "180069      1       30      1633  \n",
      "180070      1        5      1961  \n",
      "180071      1       19      2777  \n",
      "180072      1        4       607  \n",
      "180073      1       14      2660  \n",
      "\n",
      "[180074 rows x 10 columns]\n"
     ]
    },
    {
     "data": {
      "text/plain": [
       "기준_날짜          0\n",
       "집계_기준          0\n",
       "기준_시간대         0\n",
       "시작_대여소_ID      0\n",
       "시작_대여소명        0\n",
       "종료_대여소_ID      0\n",
       "종료_대여소명      671\n",
       "전체_건수          0\n",
       "전체_이용_분        0\n",
       "전체_이용_거리       0\n",
       "dtype: int64"
      ]
     },
     "execution_count": 4,
     "metadata": {},
     "output_type": "execute_result"
    }
   ],
   "source": [
    "file_path1 = 'D:\\Code\\(최종)따릉이/tpss_bcycl_od_statnhm_20240104.csv'\n",
    "\n",
    "df_1 = pd.read_csv(file_path1,encoding='cp949')\n",
    "\n",
    "print(f'20240104 데이터프레임 : \\n{df_1}')\n",
    "\n",
    "df_1.isnull().sum()"
   ]
  },
  {
   "cell_type": "markdown",
   "metadata": {},
   "source": [
    "### 결측치가 과다한 컬럼 제거"
   ]
  },
  {
   "cell_type": "code",
   "execution_count": 5,
   "metadata": {},
   "outputs": [
    {
     "name": "stdout",
     "output_type": "stream",
     "text": [
      "           기준_날짜 집계_기준  기준_시간대 시작_대여소_ID     시작_대여소명 종료_대여소_ID  전체_건수  \\\n",
      "0       20240104  출발시간       0   ST-1014  신정3동_101_1    ST-676      1   \n",
      "1       20240104  출발시간       0   ST-1017   목5동_059_1    ST-310      1   \n",
      "2       20240104  출발시간       0   ST-1055   강일동_001_1   ST-2744      1   \n",
      "3       20240104  출발시간       0   ST-1082   장지동_019_1   ST-2599      1   \n",
      "4       20240104  출발시간       0   ST-1092  풍납2동_026_1    ST-502      1   \n",
      "...          ...   ...     ...       ...         ...       ...    ...   \n",
      "180069  20240104  도착시간    2355    ST-914  상계5동_036_1   ST-2711      1   \n",
      "180070  20240104  도착시간    2355    ST-935  방배4동_002_1   ST-1916      1   \n",
      "180071  20240104  도착시간    2355    ST-942  면목5동_015_1    ST-262      1   \n",
      "180072  20240104  도착시간    2355     ST-96   상암동_060_1   ST-3272      1   \n",
      "180073  20240104  도착시간    2355    ST-997   목4동_021_1   ST-1013      1   \n",
      "\n",
      "        전체_이용_분  전체_이용_거리  \n",
      "0             6      2320  \n",
      "1             6       909  \n",
      "2            93     12860  \n",
      "3             5       910  \n",
      "4             5      1063  \n",
      "...         ...       ...  \n",
      "180069       30      1633  \n",
      "180070        5      1961  \n",
      "180071       19      2777  \n",
      "180072        4       607  \n",
      "180073       14      2660  \n",
      "\n",
      "[180074 rows x 9 columns]\n"
     ]
    }
   ],
   "source": [
    "df_1.drop(columns=['종료_대여소명'],inplace=True)\n",
    "\n",
    "print(df_1)"
   ]
  },
  {
   "cell_type": "markdown",
   "metadata": {},
   "source": [
    "### 불필요한 컬럼 제거"
   ]
  },
  {
   "cell_type": "code",
   "execution_count": 6,
   "metadata": {},
   "outputs": [
    {
     "name": "stdout",
     "output_type": "stream",
     "text": [
      "Index(['기준_날짜', '집계_기준', '기준_시간대', '시작_대여소_ID', '시작_대여소명', '종료_대여소_ID',\n",
      "       '전체_건수', '전체_이용_분', '전체_이용_거리'],\n",
      "      dtype='object')\n"
     ]
    }
   ],
   "source": [
    "columns = df_1.columns\n",
    "print(columns)"
   ]
  },
  {
   "cell_type": "code",
   "execution_count": 7,
   "metadata": {},
   "outputs": [
    {
     "name": "stdout",
     "output_type": "stream",
     "text": [
      "           기준_날짜  기준_시간대 시작_대여소_ID     시작_대여소명 종료_대여소_ID  전체_이용_분  전체_이용_거리\n",
      "0       20240104       0   ST-1014  신정3동_101_1    ST-676        6      2320\n",
      "1       20240104       0   ST-1017   목5동_059_1    ST-310        6       909\n",
      "2       20240104       0   ST-1055   강일동_001_1   ST-2744       93     12860\n",
      "3       20240104       0   ST-1082   장지동_019_1   ST-2599        5       910\n",
      "4       20240104       0   ST-1092  풍납2동_026_1    ST-502        5      1063\n",
      "...          ...     ...       ...         ...       ...      ...       ...\n",
      "180069  20240104    2355    ST-914  상계5동_036_1   ST-2711       30      1633\n",
      "180070  20240104    2355    ST-935  방배4동_002_1   ST-1916        5      1961\n",
      "180071  20240104    2355    ST-942  면목5동_015_1    ST-262       19      2777\n",
      "180072  20240104    2355     ST-96   상암동_060_1   ST-3272        4       607\n",
      "180073  20240104    2355    ST-997   목4동_021_1   ST-1013       14      2660\n",
      "\n",
      "[180074 rows x 7 columns]\n"
     ]
    }
   ],
   "source": [
    "df_1.drop(columns=['집계_기준', '전체_건수'],inplace=True)\n",
    "print(df_1)"
   ]
  },
  {
   "cell_type": "markdown",
   "metadata": {},
   "source": [
    "### 한글 컬럼을 영문컬럼으로 변경"
   ]
  },
  {
   "cell_type": "code",
   "execution_count": 8,
   "metadata": {},
   "outputs": [
    {
     "name": "stdout",
     "output_type": "stream",
     "text": [
      "Index(['Date', 'Time', 'PlaceID', 'StartPlace', 'EndPlaceID', 'Used_Time',\n",
      "       'Total Distance'],\n",
      "      dtype='object')\n",
      "            Date  Time  PlaceID  StartPlace EndPlaceID  Used_Time  \\\n",
      "0       20240104     0  ST-1014  신정3동_101_1     ST-676          6   \n",
      "1       20240104     0  ST-1017   목5동_059_1     ST-310          6   \n",
      "2       20240104     0  ST-1055   강일동_001_1    ST-2744         93   \n",
      "3       20240104     0  ST-1082   장지동_019_1    ST-2599          5   \n",
      "4       20240104     0  ST-1092  풍납2동_026_1     ST-502          5   \n",
      "...          ...   ...      ...         ...        ...        ...   \n",
      "180069  20240104  2355   ST-914  상계5동_036_1    ST-2711         30   \n",
      "180070  20240104  2355   ST-935  방배4동_002_1    ST-1916          5   \n",
      "180071  20240104  2355   ST-942  면목5동_015_1     ST-262         19   \n",
      "180072  20240104  2355    ST-96   상암동_060_1    ST-3272          4   \n",
      "180073  20240104  2355   ST-997   목4동_021_1    ST-1013         14   \n",
      "\n",
      "        Total Distance  \n",
      "0                 2320  \n",
      "1                  909  \n",
      "2                12860  \n",
      "3                  910  \n",
      "4                 1063  \n",
      "...                ...  \n",
      "180069            1633  \n",
      "180070            1961  \n",
      "180071            2777  \n",
      "180072             607  \n",
      "180073            2660  \n",
      "\n",
      "[180074 rows x 7 columns]\n"
     ]
    },
    {
     "data": {
      "text/plain": [
       "Date              0\n",
       "Time              0\n",
       "PlaceID           0\n",
       "StartPlace        0\n",
       "EndPlaceID        0\n",
       "Used_Time         0\n",
       "Total Distance    0\n",
       "dtype: int64"
      ]
     },
     "execution_count": 8,
     "metadata": {},
     "output_type": "execute_result"
    }
   ],
   "source": [
    "df_1.columns=['Date', 'Time', 'PlaceID', 'StartPlace', 'EndPlaceID', 'Used_Time', 'Total Distance']\n",
    "\n",
    "print(df_1.columns)\n",
    "\n",
    "print(df_1)\n",
    "\n",
    "df_1.isnull().sum()"
   ]
  },
  {
   "cell_type": "code",
   "execution_count": 9,
   "metadata": {},
   "outputs": [
    {
     "name": "stdout",
     "output_type": "stream",
     "text": [
      "1월 4일 데이터프레임 : \n",
      "            Date  Time  PlaceID  StartPlace EndPlaceID  Used_Time  \\\n",
      "0       20240104     0  ST-1014  신정3동_101_1     ST-676          6   \n",
      "1       20240104     0  ST-1017   목5동_059_1     ST-310          6   \n",
      "2       20240104     0  ST-1055   강일동_001_1    ST-2744         93   \n",
      "3       20240104     0  ST-1082   장지동_019_1    ST-2599          5   \n",
      "4       20240104     0  ST-1092  풍납2동_026_1     ST-502          5   \n",
      "...          ...   ...      ...         ...        ...        ...   \n",
      "180069  20240104  2355   ST-914  상계5동_036_1    ST-2711         30   \n",
      "180070  20240104  2355   ST-935  방배4동_002_1    ST-1916          5   \n",
      "180071  20240104  2355   ST-942  면목5동_015_1     ST-262         19   \n",
      "180072  20240104  2355    ST-96   상암동_060_1    ST-3272          4   \n",
      "180073  20240104  2355   ST-997   목4동_021_1    ST-1013         14   \n",
      "\n",
      "        Total Distance  \n",
      "0                 2320  \n",
      "1                  909  \n",
      "2                12860  \n",
      "3                  910  \n",
      "4                 1063  \n",
      "...                ...  \n",
      "180069            1633  \n",
      "180070            1961  \n",
      "180071            2777  \n",
      "180072             607  \n",
      "180073            2660  \n",
      "\n",
      "[180074 rows x 7 columns]\n"
     ]
    }
   ],
   "source": [
    "print(f'1월 4일 데이터프레임 : \\n{df_1}')"
   ]
  },
  {
   "cell_type": "markdown",
   "metadata": {},
   "source": [
    "## EDA"
   ]
  },
  {
   "cell_type": "code",
   "execution_count": 10,
   "metadata": {},
   "outputs": [
    {
     "data": {
      "image/png": "[encoded data removed]",
      "text/plain": [
       "<Figure size 640x480 with 1 Axes>"
      ]
     },
     "metadata": {},
     "output_type": "display_data"
    }
   ],
   "source": [
    "### 사용시간대별 총 이동거리의 시각화\n",
    "sns.scatterplot(data=df_1, x='Used_Time', y='Total Distance')\n",
    "plt.show()\n"
   ]
  },
  {
   "cell_type": "code",
   "execution_count": 11,
   "metadata": {},
   "outputs": [
    {
     "data": {
      "image/png": "[encoded data removed]",
      "text/plain": [
       "<Figure size 640x480 with 1 Axes>"
      ]
     },
     "metadata": {},
     "output_type": "display_data"
    }
   ],
   "source": [
    "### 사용시간대별 총 이동거리의 시각화\n",
    "sns.histplot(data=df_1, x='Used_Time', y='Total Distance',kde=True)\n",
    "plt.show()\n"
   ]
  },
  {
   "cell_type": "markdown",
   "metadata": {},
   "source": [
    "## Modeling"
   ]
  },
  {
   "cell_type": "code",
   "execution_count": 12,
   "metadata": {},
   "outputs": [],
   "source": [
    "from sklearn.model_selection import train_test_split"
   ]
  },
  {
   "cell_type": "markdown",
   "metadata": {},
   "source": [
    "### RandomForest Classifier"
   ]
  },
  {
   "cell_type": "code",
   "execution_count": null,
   "metadata": {},
   "outputs": [],
   "source": []
  },
  {
   "cell_type": "markdown",
   "metadata": {},
   "source": [
    "## 서울시 따릉이 일별 이용 현황(20240105)"
   ]
  },
  {
   "cell_type": "code",
   "execution_count": 13,
   "metadata": {},
   "outputs": [
    {
     "name": "stdout",
     "output_type": "stream",
     "text": [
      "20240105 데이터프레임 : \n",
      "           기준_날짜 집계_기준  기준_시간대 시작_대여소_ID     시작_대여소명 종료_대여소_ID      종료_대여소명  \\\n",
      "0       20240105  출발시간       0   ST-1033  불광2동_017_1    ST-475   불광1동_014_1   \n",
      "1       20240105  출발시간       0   ST-1041  성내1동_033_1    ST-494     길동_085_2   \n",
      "2       20240105  출발시간       0   ST-1061  천호1동_039_1   ST-1061   천호1동_039_1   \n",
      "3       20240105  출발시간       0   ST-1070  송파1동_010_1   ST-1729    삼전동_046_1   \n",
      "4       20240105  출발시간       0   ST-1072  가락2동_010_1   ST-1408    오금동_037_1   \n",
      "...          ...   ...     ...       ...         ...       ...          ...   \n",
      "188361  20240105  도착시간    2355    ST-950   조원동_032_1   ST-2375    대학동_008_1   \n",
      "188362  20240105  도착시간    2355    ST-965  낙성대동_007_2   ST-2373    은천동_065_2   \n",
      "188363  20240105  도착시간    2355    ST-968  성산2동_039_1     ST-35  북가좌2동_020_1   \n",
      "188364  20240105  도착시간    2355    ST-980  자양2동_039_1   ST-2308    화양동_041_2   \n",
      "188365  20240105  도착시간    2355    ST-983  중곡1동_022_1    ST-983   중곡1동_022_1   \n",
      "\n",
      "        전체_건수  전체_이용_분  전체_이용_거리  \n",
      "0           1        3       506  \n",
      "1           1       20      2072  \n",
      "2           1        0        10  \n",
      "3           2       15      2156  \n",
      "4           1       10      1054  \n",
      "...       ...      ...       ...  \n",
      "188361      1       45      5035  \n",
      "188362      1        7       993  \n",
      "188363      1       12      1930  \n",
      "188364      1        8      1603  \n",
      "188365      1        0        10  \n",
      "\n",
      "[188366 rows x 10 columns]\n"
     ]
    },
    {
     "data": {
      "text/plain": [
       "기준_날짜          0\n",
       "집계_기준          0\n",
       "기준_시간대         0\n",
       "시작_대여소_ID      0\n",
       "시작_대여소명        0\n",
       "종료_대여소_ID      0\n",
       "종료_대여소명      737\n",
       "전체_건수          0\n",
       "전체_이용_분        0\n",
       "전체_이용_거리       0\n",
       "dtype: int64"
      ]
     },
     "execution_count": 13,
     "metadata": {},
     "output_type": "execute_result"
    }
   ],
   "source": [
    "file_path2 = 'D:\\Code\\(최종)따릉이/tpss_bcycl_od_statnhm_20240105.csv'\n",
    "\n",
    "df_2 = pd.read_csv(file_path2, encoding='cp949')\n",
    "\n",
    "print(f'20240105 데이터프레임 : \\n{df_2}')\n",
    "\n",
    "df_2.isnull().sum()"
   ]
  },
  {
   "cell_type": "code",
   "execution_count": 14,
   "metadata": {},
   "outputs": [
    {
     "name": "stdout",
     "output_type": "stream",
     "text": [
      "           기준_날짜 집계_기준  기준_시간대 시작_대여소_ID     시작_대여소명 종료_대여소_ID  전체_건수  \\\n",
      "0       20240105  출발시간       0   ST-1033  불광2동_017_1    ST-475      1   \n",
      "1       20240105  출발시간       0   ST-1041  성내1동_033_1    ST-494      1   \n",
      "2       20240105  출발시간       0   ST-1061  천호1동_039_1   ST-1061      1   \n",
      "3       20240105  출발시간       0   ST-1070  송파1동_010_1   ST-1729      2   \n",
      "4       20240105  출발시간       0   ST-1072  가락2동_010_1   ST-1408      1   \n",
      "...          ...   ...     ...       ...         ...       ...    ...   \n",
      "188361  20240105  도착시간    2355    ST-950   조원동_032_1   ST-2375      1   \n",
      "188362  20240105  도착시간    2355    ST-965  낙성대동_007_2   ST-2373      1   \n",
      "188363  20240105  도착시간    2355    ST-968  성산2동_039_1     ST-35      1   \n",
      "188364  20240105  도착시간    2355    ST-980  자양2동_039_1   ST-2308      1   \n",
      "188365  20240105  도착시간    2355    ST-983  중곡1동_022_1    ST-983      1   \n",
      "\n",
      "        전체_이용_분  전체_이용_거리  \n",
      "0             3       506  \n",
      "1            20      2072  \n",
      "2             0        10  \n",
      "3            15      2156  \n",
      "4            10      1054  \n",
      "...         ...       ...  \n",
      "188361       45      5035  \n",
      "188362        7       993  \n",
      "188363       12      1930  \n",
      "188364        8      1603  \n",
      "188365        0        10  \n",
      "\n",
      "[188366 rows x 9 columns]\n"
     ]
    }
   ],
   "source": [
    "df_2.drop(columns=['종료_대여소명'],inplace=True)\n",
    "\n",
    "print(df_2)"
   ]
  },
  {
   "cell_type": "markdown",
   "metadata": {},
   "source": [
    "## 서울시 따릉이 일별 이용 현황(20240106)"
   ]
  },
  {
   "cell_type": "code",
   "execution_count": 15,
   "metadata": {},
   "outputs": [
    {
     "name": "stdout",
     "output_type": "stream",
     "text": [
      "20240106 데이터프레임 : \n",
      "           기준_날짜 집계_기준  기준_시간대 시작_대여소_ID     시작_대여소명 종료_대여소_ID     종료_대여소명  \\\n",
      "0       20240106  출발시간       0   ST-1005  신정1동_027_1   ST-2760  신정2동_006_1   \n",
      "1       20240106  출발시간       0   ST-1010  신월3동_007_1    ST-835  발산1동_001_1   \n",
      "2       20240106  출발시간       0   ST-1015   목5동_001_1    ST-309   목4동_040_1   \n",
      "3       20240106  출발시간       0   ST-1017   목5동_059_1   ST-1495   목5동_013_1   \n",
      "4       20240106  출발시간       0    ST-102  자양1동_003_1    ST-988  자양3동_029_1   \n",
      "...          ...   ...     ...       ...         ...       ...         ...   \n",
      "112737  20240106  도착시간    2355    ST-884   중앙동_009_1   ST-1548   은천동_065_1   \n",
      "112738  20240106  도착시간    2355    ST-913  월계3동_039_1   ST-2708  월계2동_025_1   \n",
      "112739  20240106  도착시간    2355    ST-919  고척1동_006_1   ST-1227  개봉1동_050_1   \n",
      "112740  20240106  도착시간    2355     ST-93   상암동_026_4     ST-43   신촌동_030_2   \n",
      "112741  20240106  도착시간    2355    ST-950   조원동_032_1    ST-709   미성동_014_1   \n",
      "\n",
      "        전체_건수  전체_이용_분  전체_이용_거리  \n",
      "0           1        6      1709  \n",
      "1           1       19      2350  \n",
      "2           1        9      2470  \n",
      "3           1        4       606  \n",
      "4           1        7      1236  \n",
      "...       ...      ...       ...  \n",
      "112737      1        6       960  \n",
      "112738      1        9      1569  \n",
      "112739      1        6       353  \n",
      "112740      1       37      4579  \n",
      "112741      1       11      1878  \n",
      "\n",
      "[112742 rows x 10 columns]\n"
     ]
    },
    {
     "data": {
      "text/plain": [
       "기준_날짜          0\n",
       "집계_기준          0\n",
       "기준_시간대         0\n",
       "시작_대여소_ID      0\n",
       "시작_대여소명        0\n",
       "종료_대여소_ID      0\n",
       "종료_대여소명      455\n",
       "전체_건수          0\n",
       "전체_이용_분        0\n",
       "전체_이용_거리       0\n",
       "dtype: int64"
      ]
     },
     "execution_count": 15,
     "metadata": {},
     "output_type": "execute_result"
    }
   ],
   "source": [
    "file_path3 = 'D:\\Code\\(최종)따릉이/tpss_bcycl_od_statnhm_20240106.csv'\n",
    "\n",
    "df_3 = pd.read_csv(file_path3, encoding='cp949')\n",
    "\n",
    "print(f'20240106 데이터프레임 : \\n{df_3}')\n",
    "\n",
    "# 결측치 확인\n",
    "\n",
    "df_3.isnull().sum()"
   ]
  },
  {
   "cell_type": "code",
   "execution_count": 16,
   "metadata": {},
   "outputs": [
    {
     "name": "stdout",
     "output_type": "stream",
     "text": [
      "           기준_날짜 집계_기준  기준_시간대 시작_대여소_ID     시작_대여소명 종료_대여소_ID  전체_건수  \\\n",
      "0       20240106  출발시간       0   ST-1005  신정1동_027_1   ST-2760      1   \n",
      "1       20240106  출발시간       0   ST-1010  신월3동_007_1    ST-835      1   \n",
      "2       20240106  출발시간       0   ST-1015   목5동_001_1    ST-309      1   \n",
      "3       20240106  출발시간       0   ST-1017   목5동_059_1   ST-1495      1   \n",
      "4       20240106  출발시간       0    ST-102  자양1동_003_1    ST-988      1   \n",
      "...          ...   ...     ...       ...         ...       ...    ...   \n",
      "112737  20240106  도착시간    2355    ST-884   중앙동_009_1   ST-1548      1   \n",
      "112738  20240106  도착시간    2355    ST-913  월계3동_039_1   ST-2708      1   \n",
      "112739  20240106  도착시간    2355    ST-919  고척1동_006_1   ST-1227      1   \n",
      "112740  20240106  도착시간    2355     ST-93   상암동_026_4     ST-43      1   \n",
      "112741  20240106  도착시간    2355    ST-950   조원동_032_1    ST-709      1   \n",
      "\n",
      "        전체_이용_분  전체_이용_거리  \n",
      "0             6      1709  \n",
      "1            19      2350  \n",
      "2             9      2470  \n",
      "3             4       606  \n",
      "4             7      1236  \n",
      "...         ...       ...  \n",
      "112737        6       960  \n",
      "112738        9      1569  \n",
      "112739        6       353  \n",
      "112740       37      4579  \n",
      "112741       11      1878  \n",
      "\n",
      "[112742 rows x 9 columns]\n"
     ]
    }
   ],
   "source": [
    "df_3.drop(columns=['종료_대여소명'],inplace=True)\n",
    "\n",
    "print(df_3)"
   ]
  }
 ],
 "metadata": {
  "kernelspec": {
   "display_name": "NvulyTarget",
   "language": "python",
   "name": "conda"
  },
  "language_info": {
   "codemirror_mode": {
    "name": "ipython",
    "version": 3
   },
   "file_extension": ".py",
   "mimetype": "text/x-python",
   "name": "python",
   "nbconvert_exporter": "python",
   "pygments_lexer": "ipython3",
   "version": "3.11.5"
  }
 },
 "nbformat": 4,
 "nbformat_minor": 2
}
